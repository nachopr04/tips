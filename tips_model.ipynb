{
 "cells": [
  {
   "cell_type": "markdown",
   "id": "69a3ddeb-18e9-4f03-9e37-dc9d381b068d",
   "metadata": {
    "tags": []
   },
   "source": [
    "# Exploración y Preparación de Datos"
   ]
  },
  {
   "cell_type": "markdown",
   "id": "b281bb7e-e639-4ac3-99fa-5e13f4794f47",
   "metadata": {},
   "source": [
    "### Paso 1: Importar las librerías necesarias"
   ]
  },
  {
   "cell_type": "code",
   "execution_count": 1,
   "id": "5a7b2549-930c-4dac-9a5c-ff416a2ffcf9",
   "metadata": {},
   "outputs": [
    {
     "name": "stdout",
     "output_type": "stream",
     "text": [
      "sagemaker.config INFO - Not applying SDK defaults from location: /etc/xdg/sagemaker/config.yaml\n",
      "sagemaker.config INFO - Not applying SDK defaults from location: /home/ec2-user/.config/sagemaker/config.yaml\n"
     ]
    }
   ],
   "source": [
    "# Manipulación y análisis de datos\n",
    "import pandas as pd\n",
    "\n",
    "# Interactuar con los servicios de AWS\n",
    "import boto3\n",
    "import sagemaker\n",
    "from sagemaker import get_execution_role\n",
    "from sagemaker.sklearn.estimator import SKLearn\n",
    "from sagemaker.sklearn.model import SKLearnModel\n",
    "\n",
    "# Visualización de datos\n",
    "import matplotlib.pyplot as plt\n",
    "import seaborn as sns\n",
    "\n",
    "# Preparación de datos y modelos\n",
    "from sklearn.model_selection import train_test_split\n",
    "from sklearn.preprocessing import StandardScaler, OneHotEncoder\n",
    "from sklearn.compose import ColumnTransformer\n",
    "from sklearn.pipeline import Pipeline\n",
    "\n",
    "# Guardar y cargar modelos\n",
    "import joblib\n",
    "\n",
    "# Operaciones del sistema operativo y manipulación de archivos\n",
    "import os\n",
    "import tarfile\n",
    "import zipfile\n",
    "import subprocess\n",
    "import sys\n",
    "\n"
   ]
  },
  {
   "cell_type": "markdown",
   "id": "af70020c-776f-4f6e-a230-6309b742bd34",
   "metadata": {},
   "source": [
    "### Paso 2: Conectarse a S3 y descargar el archivo\n",
    "\n",
    "En esta sección, nos conectamos al servicio S3 de AWS utilizando `boto3`, especificamos el nombre del bucket y el archivo que queremos descargar, y luego procedemos a descargarlo.\n"
   ]
  },
  {
   "cell_type": "code",
   "execution_count": 2,
   "id": "69d92a00-9ed1-458d-9183-2199e3706218",
   "metadata": {},
   "outputs": [],
   "source": [
    "# Conectarse a S3\n",
    "s3 = boto3.client('s3')\n",
    "bucket_name = 'predicciontips'\n",
    "file_key = 'tips.csv'\n",
    "\n",
    "# Descargar el archivo\n",
    "s3.download_file(bucket_name, file_key, 'tips.csv')"
   ]
  },
  {
   "cell_type": "markdown",
   "id": "02e173a9-5547-4eaf-bcbe-f00b3c9c4070",
   "metadata": {},
   "source": [
    "### Paso 3: Leer el archivo CSV en un DataFrame de pandas\n",
    "\n",
    "Aquí leemos el archivo CSV que hemos descargado en un DataFrame de pandas para poder trabajar con los datos de manera más eficiente.\n"
   ]
  },
  {
   "cell_type": "code",
   "execution_count": 3,
   "id": "22b7b516-3817-4da7-8bb2-e3d5b50ec8ef",
   "metadata": {},
   "outputs": [
    {
     "data": {
      "text/html": [
       "<div>\n",
       "<style scoped>\n",
       "    .dataframe tbody tr th:only-of-type {\n",
       "        vertical-align: middle;\n",
       "    }\n",
       "\n",
       "    .dataframe tbody tr th {\n",
       "        vertical-align: top;\n",
       "    }\n",
       "\n",
       "    .dataframe thead th {\n",
       "        text-align: right;\n",
       "    }\n",
       "</style>\n",
       "<table border=\"1\" class=\"dataframe\">\n",
       "  <thead>\n",
       "    <tr style=\"text-align: right;\">\n",
       "      <th></th>\n",
       "      <th>total_bill</th>\n",
       "      <th>tip</th>\n",
       "      <th>sex</th>\n",
       "      <th>smoker</th>\n",
       "      <th>day</th>\n",
       "      <th>time</th>\n",
       "      <th>size</th>\n",
       "    </tr>\n",
       "  </thead>\n",
       "  <tbody>\n",
       "    <tr>\n",
       "      <th>0</th>\n",
       "      <td>16.99</td>\n",
       "      <td>1.01</td>\n",
       "      <td>Female</td>\n",
       "      <td>No</td>\n",
       "      <td>Sun</td>\n",
       "      <td>Dinner</td>\n",
       "      <td>2</td>\n",
       "    </tr>\n",
       "    <tr>\n",
       "      <th>1</th>\n",
       "      <td>10.34</td>\n",
       "      <td>1.66</td>\n",
       "      <td>Male</td>\n",
       "      <td>No</td>\n",
       "      <td>Sun</td>\n",
       "      <td>Dinner</td>\n",
       "      <td>3</td>\n",
       "    </tr>\n",
       "    <tr>\n",
       "      <th>2</th>\n",
       "      <td>21.01</td>\n",
       "      <td>3.50</td>\n",
       "      <td>Male</td>\n",
       "      <td>No</td>\n",
       "      <td>Sun</td>\n",
       "      <td>Dinner</td>\n",
       "      <td>3</td>\n",
       "    </tr>\n",
       "    <tr>\n",
       "      <th>3</th>\n",
       "      <td>23.68</td>\n",
       "      <td>3.31</td>\n",
       "      <td>Male</td>\n",
       "      <td>No</td>\n",
       "      <td>Sun</td>\n",
       "      <td>Dinner</td>\n",
       "      <td>2</td>\n",
       "    </tr>\n",
       "    <tr>\n",
       "      <th>4</th>\n",
       "      <td>24.59</td>\n",
       "      <td>3.61</td>\n",
       "      <td>Female</td>\n",
       "      <td>No</td>\n",
       "      <td>Sun</td>\n",
       "      <td>Dinner</td>\n",
       "      <td>4</td>\n",
       "    </tr>\n",
       "  </tbody>\n",
       "</table>\n",
       "</div>"
      ],
      "text/plain": [
       "   total_bill   tip     sex smoker  day    time  size\n",
       "0       16.99  1.01  Female     No  Sun  Dinner     2\n",
       "1       10.34  1.66    Male     No  Sun  Dinner     3\n",
       "2       21.01  3.50    Male     No  Sun  Dinner     3\n",
       "3       23.68  3.31    Male     No  Sun  Dinner     2\n",
       "4       24.59  3.61  Female     No  Sun  Dinner     4"
      ]
     },
     "execution_count": 3,
     "metadata": {},
     "output_type": "execute_result"
    }
   ],
   "source": [
    "# Leer el archivo CSV en un DataFrame de pandas\n",
    "tips = pd.read_csv('tips.csv')\n",
    "\n",
    "# Mostrar las primeras filas del DataFrame para verificar que se haya cargado correctamente\n",
    "tips.head()"
   ]
  },
  {
   "cell_type": "markdown",
   "id": "157604b5-6a7e-494c-a010-a8a5035ee3a0",
   "metadata": {},
   "source": [
    "### Paso 4: Aumentar el dataset generando datos sintéticos\n",
    "\n",
    "En esta sección, aumentaremos el número de filas en nuestro dataset original generando datos sintéticos mediante el duplicado de filas existentes. Esto es útil para tener un conjunto de datos más grande para análisis y modelado.\n"
   ]
  },
  {
   "cell_type": "code",
   "execution_count": 4,
   "id": "85e8d822-077d-4778-a651-a72982df6513",
   "metadata": {
    "tags": []
   },
   "outputs": [
    {
     "name": "stdout",
     "output_type": "stream",
     "text": [
      "Número de filas en el dataset aumentado: 1000\n"
     ]
    }
   ],
   "source": [
    "# Número de filas actuales\n",
    "current_rows = len(tips)\n",
    "\n",
    "# Número de filas a agregar\n",
    "additional_rows = 1000 - current_rows\n",
    "\n",
    "# Generar datos sintéticos duplicando filas existentes\n",
    "synthetic_data = tips.sample(additional_rows, replace=True, random_state=42)\n",
    "\n",
    "# Combinar el dataset original con los datos sintéticos\n",
    "tips_1000_rows = pd.concat([tips, synthetic_data], ignore_index=True)\n",
    "\n",
    "# Verificar el nuevo número de filas\n",
    "print(f\"Número de filas en el dataset aumentado: {len(tips_1000_rows)}\")\n",
    "\n",
    "# Guardar el dataset aumentado\n",
    "tips_1000_rows.to_csv('tips_1000_rows.csv', index=False)\n"
   ]
  },
  {
   "cell_type": "markdown",
   "id": "d25ab766-8fb0-4c55-94c1-225ab97fdb47",
   "metadata": {
    "tags": []
   },
   "source": [
    "### Paso 5: Generar estadísticas descriptivas\n",
    "\n",
    "Ahora que tenemos un dataset aumentado, vamos a generar estadísticas descriptivas para entender mejor la distribución de nuestros datos.\n"
   ]
  },
  {
   "cell_type": "code",
   "execution_count": 5,
   "id": "ddede9dd-c66f-4372-97b5-330f69a92cd2",
   "metadata": {},
   "outputs": [
    {
     "data": {
      "text/html": [
       "<div>\n",
       "<style scoped>\n",
       "    .dataframe tbody tr th:only-of-type {\n",
       "        vertical-align: middle;\n",
       "    }\n",
       "\n",
       "    .dataframe tbody tr th {\n",
       "        vertical-align: top;\n",
       "    }\n",
       "\n",
       "    .dataframe thead th {\n",
       "        text-align: right;\n",
       "    }\n",
       "</style>\n",
       "<table border=\"1\" class=\"dataframe\">\n",
       "  <thead>\n",
       "    <tr style=\"text-align: right;\">\n",
       "      <th></th>\n",
       "      <th>total_bill</th>\n",
       "      <th>tip</th>\n",
       "      <th>size</th>\n",
       "    </tr>\n",
       "  </thead>\n",
       "  <tbody>\n",
       "    <tr>\n",
       "      <th>count</th>\n",
       "      <td>1000.000000</td>\n",
       "      <td>1000.000000</td>\n",
       "      <td>1000.000000</td>\n",
       "    </tr>\n",
       "    <tr>\n",
       "      <th>mean</th>\n",
       "      <td>20.121520</td>\n",
       "      <td>2.981940</td>\n",
       "      <td>2.615000</td>\n",
       "    </tr>\n",
       "    <tr>\n",
       "      <th>std</th>\n",
       "      <td>8.995821</td>\n",
       "      <td>1.383432</td>\n",
       "      <td>0.962133</td>\n",
       "    </tr>\n",
       "    <tr>\n",
       "      <th>min</th>\n",
       "      <td>3.070000</td>\n",
       "      <td>1.000000</td>\n",
       "      <td>1.000000</td>\n",
       "    </tr>\n",
       "    <tr>\n",
       "      <th>25%</th>\n",
       "      <td>13.420000</td>\n",
       "      <td>2.000000</td>\n",
       "      <td>2.000000</td>\n",
       "    </tr>\n",
       "    <tr>\n",
       "      <th>50%</th>\n",
       "      <td>17.920000</td>\n",
       "      <td>2.830000</td>\n",
       "      <td>2.000000</td>\n",
       "    </tr>\n",
       "    <tr>\n",
       "      <th>75%</th>\n",
       "      <td>24.550000</td>\n",
       "      <td>3.550000</td>\n",
       "      <td>3.000000</td>\n",
       "    </tr>\n",
       "    <tr>\n",
       "      <th>max</th>\n",
       "      <td>50.810000</td>\n",
       "      <td>10.000000</td>\n",
       "      <td>6.000000</td>\n",
       "    </tr>\n",
       "  </tbody>\n",
       "</table>\n",
       "</div>"
      ],
      "text/plain": [
       "        total_bill          tip         size\n",
       "count  1000.000000  1000.000000  1000.000000\n",
       "mean     20.121520     2.981940     2.615000\n",
       "std       8.995821     1.383432     0.962133\n",
       "min       3.070000     1.000000     1.000000\n",
       "25%      13.420000     2.000000     2.000000\n",
       "50%      17.920000     2.830000     2.000000\n",
       "75%      24.550000     3.550000     3.000000\n",
       "max      50.810000    10.000000     6.000000"
      ]
     },
     "execution_count": 5,
     "metadata": {},
     "output_type": "execute_result"
    }
   ],
   "source": [
    "# Generar estadísticas descriptivas\n",
    "tips_1000_rows.describe()"
   ]
  },
  {
   "cell_type": "markdown",
   "id": "296a3a9b-16a3-4111-a01a-cd895d4c04f0",
   "metadata": {},
   "source": [
    "### Paso 6: Visualizar la distribución de variables\n",
    "\n",
    "En esta sección, visualizaremos la distribución de las variables de interés utilizando histogramas, gráficos de cajas y gráficos de dispersión. Esto nos ayudará a entender mejor la distribución y relaciones en nuestros datos.\n"
   ]
  },
  {
   "cell_type": "code",
   "execution_count": 6,
   "id": "f2c72fd6-9ed8-4351-9a48-e38722cef36e",
   "metadata": {
    "tags": []
   },
   "outputs": [
    {
     "data": {
      "image/png": "[encoded data removed]",
      "text/plain": [
       "<Figure size 640x480 with 1 Axes>"
      ]
     },
     "metadata": {},
     "output_type": "display_data"
    },
    {
     "data": {
      "image/png": "[encoded data removed]",
      "text/plain": [
       "<Figure size 640x480 with 1 Axes>"
      ]
     },
     "metadata": {},
     "output_type": "display_data"
    },
    {
     "data": {
      "image/png": "[encoded data removed]",
      "text/plain": [
       "<Figure size 640x480 with 1 Axes>"
      ]
     },
     "metadata": {},
     "output_type": "display_data"
    }
   ],
   "source": [
    "# Histograma\n",
    "sns.histplot(tips_1000_rows['total_bill'], kde=True)\n",
    "plt.title('Distribución de total_bill')\n",
    "plt.show()\n",
    "\n",
    "# Gráfico de cajas\n",
    "sns.boxplot(x=tips_1000_rows['total_bill'])\n",
    "plt.title('Gráfico de cajas de total_bill')\n",
    "plt.show()\n",
    "\n",
    "# Gráfico de dispersión\n",
    "sns.scatterplot(x='total_bill', y='tip', data=tips_1000_rows)\n",
    "plt.title('Dispersión de total_bill vs tip')\n",
    "plt.show()"
   ]
  },
  {
   "cell_type": "markdown",
   "id": "dcd2443c-bfa7-4bd7-a5f2-f2938b799180",
   "metadata": {},
   "source": [
    "### Paso 7: Identificar valores nulos\n",
    "\n",
    "Aquí verificamos si hay valores nulos en nuestro dataset, lo cual es crucial para asegurar la calidad de los datos antes de proceder con el análisis.\n"
   ]
  },
  {
   "cell_type": "code",
   "execution_count": 7,
   "id": "501b7edd-bc53-40f9-8954-4ee0f82a74ce",
   "metadata": {
    "tags": []
   },
   "outputs": [
    {
     "data": {
      "text/plain": [
       "total_bill    0\n",
       "tip           0\n",
       "sex           0\n",
       "smoker        0\n",
       "day           0\n",
       "time          0\n",
       "size          0\n",
       "dtype: int64"
      ]
     },
     "execution_count": 7,
     "metadata": {},
     "output_type": "execute_result"
    }
   ],
   "source": [
    "# Identificar valores nulos\n",
    "tips_1000_rows.isnull().sum()"
   ]
  },
  {
   "cell_type": "markdown",
   "id": "1d8a639e-e709-4a6a-a2b9-d2e899a54151",
   "metadata": {},
   "source": [
    "# Transformación de variables"
   ]
  },
  {
   "cell_type": "markdown",
   "id": "dc591c08-96eb-4887-b924-5cd7f6679657",
   "metadata": {},
   "source": [
    "### Paso 8: Normalizar datos numéricos\n",
    "\n",
    "En esta sección, identificamos las características numéricas de nuestro dataset y las normalizamos utilizando `StandardScaler` para asegurarnos de que todas las características numéricas tengan una escala comparable.\n"
   ]
  },
  {
   "cell_type": "code",
   "execution_count": 8,
   "id": "310d54f7-11bb-47f6-a398-c53c8e699de9",
   "metadata": {
    "tags": []
   },
   "outputs": [],
   "source": [
    "numeric_features = tips_1000_rows.select_dtypes(include=['int64', 'float64']).columns.tolist()\n",
    "numeric_transformer = StandardScaler()"
   ]
  },
  {
   "cell_type": "markdown",
   "id": "9157460f-31df-41d0-b792-3de9b6a34a74",
   "metadata": {},
   "source": [
    "### Paso 9: Codificar datos categóricos\n",
    "\n",
    "Aquí identificamos las características categóricas de nuestro dataset y las codificamos utilizando `OneHotEncoder` para convertir las categorías en una representación numérica que pueda ser utilizada por algoritmos de machine learning.\n"
   ]
  },
  {
   "cell_type": "code",
   "execution_count": 9,
   "id": "9e04e19a-5a17-4f79-b8c3-46f67d2cc5d7",
   "metadata": {},
   "outputs": [],
   "source": [
    "categorical_features = tips_1000_rows.select_dtypes(include=['object']).columns.tolist()\n",
    "categorical_transformer = OneHotEncoder(handle_unknown='ignore')"
   ]
  },
  {
   "cell_type": "markdown",
   "id": "1ca43e7d-4e45-4831-b737-15238f8af24d",
   "metadata": {},
   "source": [
    "### Paso 10: Crear el preprocesador con ColumnTransformer\n",
    "\n",
    "Combinamos los transformadores numéricos y categóricos en un preprocesador único utilizando `ColumnTransformer`, lo que nos permite aplicar las transformaciones apropiadas a cada tipo de característica.\n"
   ]
  },
  {
   "cell_type": "code",
   "execution_count": 10,
   "id": "46167c5a-e1b6-4316-ae10-111e20e1d10b",
   "metadata": {
    "tags": []
   },
   "outputs": [],
   "source": [
    "preprocessor = ColumnTransformer(\n",
    "    transformers=[\n",
    "        ('num', numeric_transformer, numeric_features),\n",
    "        ('cat', categorical_transformer, categorical_features)\n",
    "    ])"
   ]
  },
  {
   "cell_type": "markdown",
   "id": "0de5f35d-2f8c-43e9-9a85-1735499c096f",
   "metadata": {},
   "source": [
    "### Paso 11: Dividir los datos en conjuntos de entrenamiento y prueba\n",
    "\n",
    "Finalmente, dividimos nuestro dataset en conjuntos de entrenamiento y prueba utilizando `train_test_split` para poder evaluar el rendimiento de nuestros modelos de machine learning de manera adecuada.\n"
   ]
  },
  {
   "cell_type": "code",
   "execution_count": 11,
   "id": "fac1d1bf-1502-459e-9640-d661c9c2908e",
   "metadata": {
    "tags": []
   },
   "outputs": [],
   "source": [
    "train, test = train_test_split(tips_1000_rows, test_size=0.2, random_state=42)"
   ]
  },
  {
   "cell_type": "markdown",
   "id": "2f0747fa-7007-4920-be4c-8c090493fdfd",
   "metadata": {},
   "source": [
    "### Paso 12: Crear el pipeline\n",
    "\n",
    "En esta sección, creamos un pipeline que encapsula el preprocesador que hemos definido anteriormente. Esto facilita la aplicación coherente de las mismas transformaciones tanto a los datos de entrenamiento como a los datos de prueba.\n"
   ]
  },
  {
   "cell_type": "code",
   "execution_count": 12,
   "id": "8e209ce2-2184-4ac9-a02f-90202eaa43c7",
   "metadata": {
    "tags": []
   },
   "outputs": [],
   "source": [
    "pipeline = Pipeline(steps=[('preprocessor', preprocessor)])"
   ]
  },
  {
   "cell_type": "markdown",
   "id": "1f7fd263-0fed-40d9-a974-89a4020a6699",
   "metadata": {},
   "source": [
    "### Paso 13: Aplicar el preprocesamiento a los datos de entrenamiento y prueba\n",
    "\n",
    "Aplicamos el pipeline a los datos de entrenamiento y prueba para realizar las transformaciones definidas.\n"
   ]
  },
  {
   "cell_type": "code",
   "execution_count": 13,
   "id": "603c350f-c145-499f-a1f8-5324915474e3",
   "metadata": {},
   "outputs": [],
   "source": [
    "train_preprocessed = pipeline.fit_transform(train)\n",
    "test_preprocessed = pipeline.transform(test)"
   ]
  },
  {
   "cell_type": "markdown",
   "id": "e1e2ddfe-0802-4f95-bc00-5d445e64b40a",
   "metadata": {},
   "source": [
    "### Paso 14: Convertir los datos preprocesados de vuelta a DataFrame para inspección\n",
    "\n",
    "Convertimos los datos transformados de vuelta a DataFrames de pandas para facilitar la inspección y verificación.\n"
   ]
  },
  {
   "cell_type": "code",
   "execution_count": 14,
   "id": "322d4e5f-a9a5-46b8-aebf-466deb9f371d",
   "metadata": {
    "tags": []
   },
   "outputs": [],
   "source": [
    "cat_columns = pipeline.named_steps['preprocessor'].named_transformers_['cat'].get_feature_names_out(categorical_features)\n",
    "train_preprocessed_df = pd.DataFrame(train_preprocessed, columns=numeric_features + list(cat_columns))\n",
    "test_preprocessed_df = pd.DataFrame(test_preprocessed, columns=numeric_features + list(cat_columns))"
   ]
  },
  {
   "cell_type": "markdown",
   "id": "98f2a559-c7fd-4932-a388-47733e36d45e",
   "metadata": {},
   "source": [
    "### Paso 15: Mostrar las primeras filas del DataFrame preprocesado\n",
    "\n",
    "Visualizamos las primeras filas de los DataFrames preprocesados para verificar que las transformaciones se hayan aplicado correctamente.\n"
   ]
  },
  {
   "cell_type": "code",
   "execution_count": 15,
   "id": "04003003-6ab7-4ecb-ab01-a5b139e20bff",
   "metadata": {
    "tags": []
   },
   "outputs": [
    {
     "name": "stdout",
     "output_type": "stream",
     "text": [
      "   total_bill       tip      size  sex_Female  sex_Male  smoker_No  \\\n",
      "0   -0.028330  0.015763 -0.632811         1.0       0.0        1.0   \n",
      "1   -0.386031 -0.712738  1.480962         0.0       1.0        1.0   \n",
      "2    0.610097  1.261500  1.480962         0.0       1.0        1.0   \n",
      "3    2.131455  0.015763  1.480962         0.0       1.0        0.0   \n",
      "4   -0.964464 -0.712738 -0.632811         1.0       0.0        1.0   \n",
      "\n",
      "   smoker_Yes  day_Fri  day_Sat  day_Sun  day_Thur  time_Dinner  time_Lunch  \n",
      "0         0.0      0.0      1.0      0.0       0.0          1.0         0.0  \n",
      "1         0.0      0.0      0.0      1.0       0.0          1.0         0.0  \n",
      "2         0.0      0.0      0.0      1.0       0.0          1.0         0.0  \n",
      "3         1.0      0.0      1.0      0.0       0.0          1.0         0.0  \n",
      "4         0.0      0.0      0.0      0.0       1.0          0.0         1.0  \n",
      "   total_bill       tip      size  sex_Female  sex_Male  smoker_No  \\\n",
      "0   -1.127466 -1.033279 -0.632811         0.0       1.0        1.0   \n",
      "1   -0.940692 -1.076989 -0.632811         0.0       1.0        0.0   \n",
      "2    0.181083  0.380014  1.480962         0.0       1.0        1.0   \n",
      "3   -0.845608 -0.858439 -0.632811         1.0       0.0        1.0   \n",
      "4   -1.110487 -0.712738 -0.632811         1.0       0.0        0.0   \n",
      "\n",
      "   smoker_Yes  day_Fri  day_Sat  day_Sun  day_Thur  time_Dinner  time_Lunch  \n",
      "0         0.0      0.0      0.0      1.0       0.0          1.0         0.0  \n",
      "1         1.0      0.0      1.0      0.0       0.0          1.0         0.0  \n",
      "2         0.0      0.0      0.0      1.0       0.0          1.0         0.0  \n",
      "3         0.0      0.0      0.0      0.0       1.0          0.0         1.0  \n",
      "4         1.0      1.0      0.0      0.0       0.0          0.0         1.0  \n"
     ]
    }
   ],
   "source": [
    "print(train_preprocessed_df.head())\n",
    "print(test_preprocessed_df.head())"
   ]
  },
  {
   "cell_type": "markdown",
   "id": "07d6ca2e-abca-4256-9e51-b1249b6b4981",
   "metadata": {},
   "source": [
    "### Paso 16: Guardar los datasets transformados en S3\n",
    "\n",
    "Guardamos los DataFrames preprocesados en archivos CSV y los subimos a un bucket de S3 para su almacenamiento.\n"
   ]
  },
  {
   "cell_type": "code",
   "execution_count": 16,
   "id": "a3fc37d1-e740-4466-8e99-10c416df4fb3",
   "metadata": {
    "tags": []
   },
   "outputs": [],
   "source": [
    "# Guardar los datasets transformados en S3\n",
    "train_preprocessed_df.to_csv('/tmp/train.csv', index=False, header=True)\n",
    "test_preprocessed_df.to_csv('/tmp/test.csv', index=False, header=True)\n"
   ]
  },
  {
   "cell_type": "code",
   "execution_count": 17,
   "id": "fe07906a-f42a-4370-8e8b-4bfc69e3b673",
   "metadata": {
    "tags": []
   },
   "outputs": [],
   "source": [
    "# Subir a S3\n",
    "s3_client = boto3.client('s3')\n",
    "s3_client.upload_file('/tmp/train.csv', 'predicciontips', 'train/train.csv')\n",
    "s3_client.upload_file('/tmp/test.csv', 'predicciontips', 'test/test.csv')\n"
   ]
  },
  {
   "cell_type": "markdown",
   "id": "0437dcad-721d-4967-8229-bffde1a241ea",
   "metadata": {},
   "source": [
    "# Entrenar el modelo"
   ]
  },
  {
   "cell_type": "markdown",
   "id": "f00e26a9-ac25-49b2-b497-ca5f042c8ac2",
   "metadata": {},
   "source": [
    "## Paso 17: Configurar y entrenar el modelo en SageMaker\n",
    "\n",
    "En esta sección, configuramos un estimador de `sagemaker` para entrenar un modelo utilizando los datos preprocesados que hemos guardado en S3. Utilizaremos la clase `SKLearn` de SageMaker para ejecutar un script de entrenamiento que se encuentra en `train.py`.\n"
   ]
  },
  {
   "cell_type": "code",
   "execution_count": 18,
   "id": "0f62e964-c31e-44d8-a305-56f2a1443bfd",
   "metadata": {
    "tags": []
   },
   "outputs": [
    {
     "name": "stderr",
     "output_type": "stream",
     "text": [
      "INFO:sagemaker:Creating training-job with name: sagemaker-scikit-learn-2024-07-20-14-55-31-707\n"
     ]
    },
    {
     "name": "stdout",
     "output_type": "stream",
     "text": [
      "2024-07-20 14:55:32 Starting - Starting the training job...\n",
      "2024-07-20 14:55:48 Starting - Preparing the instances for training...\n",
      "2024-07-20 14:56:16 Downloading - Downloading input data...\n",
      "2024-07-20 14:56:46 Downloading - Downloading the training image...\n",
      "2024-07-20 14:57:21 Training - Training image download completed. Training in progress...\u001b[34m2024-07-20 14:57:33,800 sagemaker-containers INFO     Imported framework sagemaker_sklearn_container.training\u001b[0m\n",
      "\u001b[34m2024-07-20 14:57:33,805 sagemaker-training-toolkit INFO     No GPUs detected (normal if no gpus installed)\u001b[0m\n",
      "\u001b[34m2024-07-20 14:57:33,851 sagemaker_sklearn_container.training INFO     Invoking user training script.\u001b[0m\n",
      "\u001b[34m2024-07-20 14:57:34,053 sagemaker-training-toolkit INFO     No GPUs detected (normal if no gpus installed)\u001b[0m\n",
      "\u001b[34m2024-07-20 14:57:34,066 sagemaker-training-toolkit INFO     No GPUs detected (normal if no gpus installed)\u001b[0m\n",
      "\u001b[34m2024-07-20 14:57:34,078 sagemaker-training-toolkit INFO     No GPUs detected (normal if no gpus installed)\u001b[0m\n",
      "\u001b[34m2024-07-20 14:57:34,087 sagemaker-training-toolkit INFO     Invoking user script\u001b[0m\n",
      "\u001b[34mTraining Env:\u001b[0m\n",
      "\u001b[34m{\n",
      "    \"additional_framework_parameters\": {},\n",
      "    \"channel_input_dirs\": {\n",
      "        \"test\": \"/opt/ml/input/data/test\",\n",
      "        \"train\": \"/opt/ml/input/data/train\"\n",
      "    },\n",
      "    \"current_host\": \"algo-1\",\n",
      "    \"framework_module\": \"sagemaker_sklearn_container.training:main\",\n",
      "    \"hosts\": [\n",
      "        \"algo-1\"\n",
      "    ],\n",
      "    \"hyperparameters\": {\n",
      "        \"alpha\": 1.0,\n",
      "        \"bucket\": \"predicciontips\"\n",
      "    },\n",
      "    \"input_config_dir\": \"/opt/ml/input/config\",\n",
      "    \"input_data_config\": {\n",
      "        \"test\": {\n",
      "            \"TrainingInputMode\": \"File\",\n",
      "            \"S3DistributionType\": \"FullyReplicated\",\n",
      "            \"RecordWrapperType\": \"None\"\n",
      "        },\n",
      "        \"train\": {\n",
      "            \"TrainingInputMode\": \"File\",\n",
      "            \"S3DistributionType\": \"FullyReplicated\",\n",
      "            \"RecordWrapperType\": \"None\"\n",
      "        }\n",
      "    },\n",
      "    \"input_dir\": \"/opt/ml/input\",\n",
      "    \"is_master\": true,\n",
      "    \"job_name\": \"sagemaker-scikit-learn-2024-07-20-14-55-31-707\",\n",
      "    \"log_level\": 20,\n",
      "    \"master_hostname\": \"algo-1\",\n",
      "    \"model_dir\": \"/opt/ml/model\",\n",
      "    \"module_dir\": \"s3://sagemaker-us-east-1-280807576555/sagemaker-scikit-learn-2024-07-20-14-55-31-707/source/sourcedir.tar.gz\",\n",
      "    \"module_name\": \"train\",\n",
      "    \"network_interface_name\": \"eth0\",\n",
      "    \"num_cpus\": 4,\n",
      "    \"num_gpus\": 0,\n",
      "    \"output_data_dir\": \"/opt/ml/output/data\",\n",
      "    \"output_dir\": \"/opt/ml/output\",\n",
      "    \"output_intermediate_dir\": \"/opt/ml/output/intermediate\",\n",
      "    \"resource_config\": {\n",
      "        \"current_host\": \"algo-1\",\n",
      "        \"current_instance_type\": \"ml.m4.xlarge\",\n",
      "        \"current_group_name\": \"homogeneousCluster\",\n",
      "        \"hosts\": [\n",
      "            \"algo-1\"\n",
      "        ],\n",
      "        \"instance_groups\": [\n",
      "            {\n",
      "                \"instance_group_name\": \"homogeneousCluster\",\n",
      "                \"instance_type\": \"ml.m4.xlarge\",\n",
      "                \"hosts\": [\n",
      "                    \"algo-1\"\n",
      "                ]\n",
      "            }\n",
      "        ],\n",
      "        \"network_interface_name\": \"eth0\"\n",
      "    },\n",
      "    \"user_entry_point\": \"train.py\"\u001b[0m\n",
      "\u001b[34m}\u001b[0m\n",
      "\u001b[34mEnvironment variables:\u001b[0m\n",
      "\u001b[34mSM_HOSTS=[\"algo-1\"]\u001b[0m\n",
      "\u001b[34mSM_NETWORK_INTERFACE_NAME=eth0\u001b[0m\n",
      "\u001b[34mSM_HPS={\"alpha\":1.0,\"bucket\":\"predicciontips\"}\u001b[0m\n",
      "\u001b[34mSM_USER_ENTRY_POINT=train.py\u001b[0m\n",
      "\u001b[34mSM_FRAMEWORK_PARAMS={}\u001b[0m\n",
      "\u001b[34mSM_RESOURCE_CONFIG={\"current_group_name\":\"homogeneousCluster\",\"current_host\":\"algo-1\",\"current_instance_type\":\"ml.m4.xlarge\",\"hosts\":[\"algo-1\"],\"instance_groups\":[{\"hosts\":[\"algo-1\"],\"instance_group_name\":\"homogeneousCluster\",\"instance_type\":\"ml.m4.xlarge\"}],\"network_interface_name\":\"eth0\"}\u001b[0m\n",
      "\u001b[34mSM_INPUT_DATA_CONFIG={\"test\":{\"RecordWrapperType\":\"None\",\"S3DistributionType\":\"FullyReplicated\",\"TrainingInputMode\":\"File\"},\"train\":{\"RecordWrapperType\":\"None\",\"S3DistributionType\":\"FullyReplicated\",\"TrainingInputMode\":\"File\"}}\u001b[0m\n",
      "\u001b[34mSM_OUTPUT_DATA_DIR=/opt/ml/output/data\u001b[0m\n",
      "\u001b[34mSM_CHANNELS=[\"test\",\"train\"]\u001b[0m\n",
      "\u001b[34mSM_CURRENT_HOST=algo-1\u001b[0m\n",
      "\u001b[34mSM_MODULE_NAME=train\u001b[0m\n",
      "\u001b[34mSM_LOG_LEVEL=20\u001b[0m\n",
      "\u001b[34mSM_FRAMEWORK_MODULE=sagemaker_sklearn_container.training:main\u001b[0m\n",
      "\u001b[34mSM_INPUT_DIR=/opt/ml/input\u001b[0m\n",
      "\u001b[34mSM_INPUT_CONFIG_DIR=/opt/ml/input/config\u001b[0m\n",
      "\u001b[34mSM_OUTPUT_DIR=/opt/ml/output\u001b[0m\n",
      "\u001b[34mSM_NUM_CPUS=4\u001b[0m\n",
      "\u001b[34mSM_NUM_GPUS=0\u001b[0m\n",
      "\u001b[34mSM_MODEL_DIR=/opt/ml/model\u001b[0m\n",
      "\u001b[34mSM_MODULE_DIR=s3://sagemaker-us-east-1-280807576555/sagemaker-scikit-learn-2024-07-20-14-55-31-707/source/sourcedir.tar.gz\u001b[0m\n",
      "\u001b[34mSM_TRAINING_ENV={\"additional_framework_parameters\":{},\"channel_input_dirs\":{\"test\":\"/opt/ml/input/data/test\",\"train\":\"/opt/ml/input/data/train\"},\"current_host\":\"algo-1\",\"framework_module\":\"sagemaker_sklearn_container.training:main\",\"hosts\":[\"algo-1\"],\"hyperparameters\":{\"alpha\":1.0,\"bucket\":\"predicciontips\"},\"input_config_dir\":\"/opt/ml/input/config\",\"input_data_config\":{\"test\":{\"RecordWrapperType\":\"None\",\"S3DistributionType\":\"FullyReplicated\",\"TrainingInputMode\":\"File\"},\"train\":{\"RecordWrapperType\":\"None\",\"S3DistributionType\":\"FullyReplicated\",\"TrainingInputMode\":\"File\"}},\"input_dir\":\"/opt/ml/input\",\"is_master\":true,\"job_name\":\"sagemaker-scikit-learn-2024-07-20-14-55-31-707\",\"log_level\":20,\"master_hostname\":\"algo-1\",\"model_dir\":\"/opt/ml/model\",\"module_dir\":\"s3://sagemaker-us-east-1-280807576555/sagemaker-scikit-learn-2024-07-20-14-55-31-707/source/sourcedir.tar.gz\",\"module_name\":\"train\",\"network_interface_name\":\"eth0\",\"num_cpus\":4,\"num_gpus\":0,\"output_data_dir\":\"/opt/ml/output/data\",\"output_dir\":\"/opt/ml/output\",\"output_intermediate_dir\":\"/opt/ml/output/intermediate\",\"resource_config\":{\"current_group_name\":\"homogeneousCluster\",\"current_host\":\"algo-1\",\"current_instance_type\":\"ml.m4.xlarge\",\"hosts\":[\"algo-1\"],\"instance_groups\":[{\"hosts\":[\"algo-1\"],\"instance_group_name\":\"homogeneousCluster\",\"instance_type\":\"ml.m4.xlarge\"}],\"network_interface_name\":\"eth0\"},\"user_entry_point\":\"train.py\"}\u001b[0m\n",
      "\u001b[34mSM_USER_ARGS=[\"--alpha\",\"1.0\",\"--bucket\",\"predicciontips\"]\u001b[0m\n",
      "\u001b[34mSM_OUTPUT_INTERMEDIATE_DIR=/opt/ml/output/intermediate\u001b[0m\n",
      "\u001b[34mSM_CHANNEL_TEST=/opt/ml/input/data/test\u001b[0m\n",
      "\u001b[34mSM_CHANNEL_TRAIN=/opt/ml/input/data/train\u001b[0m\n",
      "\u001b[34mSM_HP_ALPHA=1.0\u001b[0m\n",
      "\u001b[34mSM_HP_BUCKET=predicciontips\u001b[0m\n",
      "\u001b[34mPYTHONPATH=/opt/ml/code:/miniconda3/bin:/miniconda3/lib/python37.zip:/miniconda3/lib/python3.7:/miniconda3/lib/python3.7/lib-dynload:/miniconda3/lib/python3.7/site-packages\u001b[0m\n",
      "\u001b[34mInvoking script with the following command:\u001b[0m\n",
      "\u001b[34m/miniconda3/bin/python train.py --alpha 1.0 --bucket predicciontips\u001b[0m\n",
      "\u001b[34mModel tar.gz uploaded to s3://predicciontips/model/model.tar.gz\u001b[0m\n",
      "\u001b[34m2024-07-20 14:57:35,651 sagemaker-containers INFO     Reporting training SUCCESS\u001b[0m\n",
      "\n",
      "2024-07-20 14:57:55 Uploading - Uploading generated training model\n",
      "2024-07-20 14:57:55 Completed - Training job completed\n",
      "Training seconds: 99\n",
      "Billable seconds: 99\n"
     ]
    }
   ],
   "source": [
    "# Obtener el rol de ejecución de SageMaker\n",
    "role = sagemaker.get_execution_role()\n",
    "\n",
    "# Especificar el bucket de S3 y los prefijos para los archivos de entrenamiento y prueba\n",
    "bucket = 'predicciontips'\n",
    "train_prefix = 'train'\n",
    "test_prefix = 'test'\n",
    "\n",
    "# Configurar el estimador de SKLearn\n",
    "sklearn_estimator = SKLearn(\n",
    "    entry_point='train.py',\n",
    "    role=role,\n",
    "    instance_type='ml.m4.xlarge',\n",
    "    framework_version='0.23-1',\n",
    "    sagemaker_session=sagemaker.Session(),\n",
    "    hyperparameters={'alpha': 1.0, 'bucket': bucket}  # Hiperparámetros\n",
    ")\n",
    "\n",
    "# Entrenar el modelo en SageMaker\n",
    "sklearn_estimator.fit({\n",
    "    'train': f's3://{bucket}/{train_prefix}/train.csv',\n",
    "    'test': f's3://{bucket}/{test_prefix}/test.csv'\n",
    "})\n",
    "\n",
    "\n"
   ]
  },
  {
   "cell_type": "markdown",
   "id": "60ec3d1a-0799-43b5-835f-1382cc730e16",
   "metadata": {},
   "source": [
    "## Descargar Métricas y Predicciones desde S3"
   ]
  },
  {
   "cell_type": "markdown",
   "id": "65f18e6e-e57c-4509-ab4e-f8da6dc0db41",
   "metadata": {},
   "source": [
    "### Paso 18: Descargar métricas y predicciones\n",
    "\n",
    "En esta sección, descargaremos las métricas y las predicciones generadas durante el entrenamiento del modelo desde un bucket de S3. Esto nos permitirá analizar los resultados del modelo.\n"
   ]
  },
  {
   "cell_type": "code",
   "execution_count": 19,
   "id": "36410f0d-f6c0-44dc-a4b7-05afa21faa12",
   "metadata": {},
   "outputs": [],
   "source": [
    "# Definir el bucket de S3 y la ruta de las métricas y predicciones\n",
    "bucket = 'predicciontips'\n",
    "metrics_path = 'output/metrics.txt'\n",
    "train_predictions_path = 'output/train_predictions.csv'\n",
    "test_predictions_path = 'output/test_predictions.csv'\n",
    "\n",
    "# Descargar los archivos\n",
    "s3 = boto3.client('s3')\n",
    "s3.download_file(bucket, metrics_path, '/tmp/metrics.txt')\n",
    "s3.download_file(bucket, train_predictions_path, '/tmp/train_predictions.csv')\n",
    "s3.download_file(bucket, test_predictions_path, '/tmp/test_predictions.csv')"
   ]
  },
  {
   "cell_type": "markdown",
   "id": "acd21e22-3983-40b5-a19c-e18fc7cbe39c",
   "metadata": {},
   "source": [
    "### Paso 19: Leer y mostrar las métricas\n",
    "\n",
    "Leemos el archivo de métricas descargado y mostramos su contenido para evaluar el rendimiento del modelo.\n"
   ]
  },
  {
   "cell_type": "code",
   "execution_count": 20,
   "id": "40b67a44-4824-4e95-a03a-b40cca59628d",
   "metadata": {},
   "outputs": [
    {
     "name": "stdout",
     "output_type": "stream",
     "text": [
      "Training Metrics:\n",
      "Mean Squared Error: 0.5220824789320376\n",
      "R^2: 0.47791752106796237\n",
      "Mean Absolute Percentage Error: 312.235869800902\n",
      "\n",
      "Test Metrics:\n",
      "Mean Squared Error: 0.637953696013566\n",
      "R^2: 0.40567902909756215\n",
      "Mean Absolute Percentage Error: 374.8573831143076\n",
      "\n"
     ]
    }
   ],
   "source": [
    "# Leer y mostrar las métricas\n",
    "with open('/tmp/metrics.txt', 'r') as f:\n",
    "    metrics = f.read()\n",
    "    print(metrics)\n"
   ]
  },
  {
   "cell_type": "markdown",
   "id": "5d9474ea-5f02-472b-bfac-77cee1a966f9",
   "metadata": {},
   "source": [
    "### Paso 20: Leer y mostrar las predicciones\n",
    "\n",
    "Leemos los archivos de predicciones descargados y mostramos las primeras filas para inspeccionar los resultados del modelo.\n"
   ]
  },
  {
   "cell_type": "code",
   "execution_count": 21,
   "id": "688b2f2b-a6c7-4ec7-9201-67babeb38859",
   "metadata": {},
   "outputs": [
    {
     "name": "stdout",
     "output_type": "stream",
     "text": [
      "Train Predictions:\n",
      "      Actual  Predicted\n",
      "0  0.015763  -0.078125\n",
      "1 -0.712738  -0.054688\n",
      "2  1.261500   0.578125\n",
      "3  0.015763   1.382812\n",
      "4 -0.712738  -0.609375\n",
      "Test Predictions:\n",
      "      Actual  Predicted\n",
      "0 -1.033279  -0.718750\n",
      "1 -1.076989  -0.757812\n",
      "2  0.380014   0.304688\n",
      "3 -0.858439  -0.539062\n",
      "4 -0.712738  -0.710938\n"
     ]
    }
   ],
   "source": [
    "# Leer y mostrar las predicciones\n",
    "train_predictions = pd.read_csv('/tmp/train_predictions.csv')\n",
    "test_predictions = pd.read_csv('/tmp/test_predictions.csv')\n",
    "\n",
    "print(\"Train Predictions:\\n\", train_predictions.head())\n",
    "print(\"Test Predictions:\\n\", test_predictions.head())\n"
   ]
  },
  {
   "cell_type": "markdown",
   "id": "54df61de-b409-4555-8c00-4ff83046061b",
   "metadata": {},
   "source": [
    "# Guardar y Subir el Modelo"
   ]
  },
  {
   "cell_type": "markdown",
   "id": "f214cbcd-00a8-453c-b0b7-b79b7ba9dd9e",
   "metadata": {},
   "source": [
    "### Paso 21: Guardar el modelo entrenado\n",
    "\n",
    "En esta sección, guardaremos el modelo entrenado utilizando `joblib` y lo empaquetaremos en un archivo `.tar.gz` para facilitar su almacenamiento y transporte.\n"
   ]
  },
  {
   "cell_type": "code",
   "execution_count": 22,
   "id": "da23fee4-2311-46df-87ad-b9629d888740",
   "metadata": {
    "tags": []
   },
   "outputs": [
    {
     "name": "stdout",
     "output_type": "stream",
     "text": [
      "Model saved as model.joblib\n"
     ]
    }
   ],
   "source": [
    "model = pipeline\n",
    "model_path = \"model.joblib\"\n",
    "joblib.dump(model, model_path)\n",
    "print(f'Model saved as {model_path}')"
   ]
  },
  {
   "cell_type": "markdown",
   "id": "2b17f077-9cbf-4619-9acd-2150a2bf797e",
   "metadata": {},
   "source": [
    "### Paso 22: Empaquetar el modelo en un archivo tar.gz\n",
    "\n",
    "Utilizamos la librería `tarfile` para empaquetar el archivo del modelo en un archivo `.tar.gz`.\n"
   ]
  },
  {
   "cell_type": "code",
   "execution_count": 23,
   "id": "fe0f3e22-7ce7-4b49-aa78-4c92ad7a884c",
   "metadata": {},
   "outputs": [
    {
     "name": "stdout",
     "output_type": "stream",
     "text": [
      "Model tar.gz created\n"
     ]
    }
   ],
   "source": [
    "# Empaquetar el modelo en un archivo tar.gz\n",
    "with tarfile.open('model.tar.gz', 'w:gz') as tar:\n",
    "    tar.add('model.joblib', arcname='model.joblib')\n",
    "print('Model tar.gz created')"
   ]
  },
  {
   "cell_type": "markdown",
   "id": "36029cf4-deab-4e31-8df2-13b1ed408f7d",
   "metadata": {},
   "source": [
    "### Paso 23: Subir el archivo empaquetado a S3\n",
    "\n",
    "Subimos el archivo `.tar.gz` a un bucket de S3 para su almacenamiento.\n"
   ]
  },
  {
   "cell_type": "code",
   "execution_count": 24,
   "id": "ccc8f1fb-f151-4c07-90a5-86b20b10dd3a",
   "metadata": {
    "tags": []
   },
   "outputs": [
    {
     "name": "stdout",
     "output_type": "stream",
     "text": [
      "Model tar.gz uploaded to s3://predicciontips/model/model.tar.gz\n"
     ]
    }
   ],
   "source": [
    "# Subir el archivo tar.gz a S3\n",
    "s3_client = boto3.client('s3')\n",
    "bucket = 'predicciontips'\n",
    "model_tar_path = 'model/model.tar.gz'\n",
    "s3_client.upload_file('model.tar.gz', bucket, model_tar_path)\n",
    "print(f'Model tar.gz uploaded to s3://{bucket}/{model_tar_path}')\n"
   ]
  },
  {
   "cell_type": "markdown",
   "id": "766abb8e-8190-4237-bf0e-9a52b0f71435",
   "metadata": {},
   "source": [
    "# Descargar, Extraer y Cargar el Modelo desde S3"
   ]
  },
  {
   "cell_type": "markdown",
   "id": "68ad7ee8-4f34-4d0a-b5a4-a572fbf59fa1",
   "metadata": {},
   "source": [
    "## Paso 24: Configurar el cliente de S3 y la información del archivo\n",
    "\n",
    "Configuramos el cliente de S3 y especificamos la información del bucket y el objeto que vamos a descargar y extraer.\n"
   ]
  },
  {
   "cell_type": "code",
   "execution_count": 25,
   "id": "1541b6d9-0967-42f7-bb10-6378d747e819",
   "metadata": {},
   "outputs": [],
   "source": [
    "# Cliente de S3\n",
    "s3 = boto3.client('s3')\n",
    "\n",
    "# Información del bucket y el objeto\n",
    "bucket_name = 'predicciontips'\n",
    "object_key = 'model/model.tar.gz'\n",
    "local_tar_path = 'model.tar.gz'\n",
    "extract_to_path = 'model'\n"
   ]
  },
  {
   "cell_type": "markdown",
   "id": "13f42f64-15eb-4651-bcce-f4521ee61336",
   "metadata": {},
   "source": [
    "### Paso 25: Descargar el archivo desde S3\n",
    "\n",
    "Definimos una función para descargar el archivo del modelo desde S3.\n"
   ]
  },
  {
   "cell_type": "code",
   "execution_count": 26,
   "id": "13ff7790-ca6f-4981-816e-0e43609c0425",
   "metadata": {},
   "outputs": [],
   "source": [
    "# Descargar el archivo desde S3\n",
    "def download_model_from_s3(bucket, key, dest_path):\n",
    "    s3 = boto3.client('s3')\n",
    "    try:\n",
    "        s3.download_file(bucket, key, dest_path)\n",
    "        print(f\"Modelo descargado correctamente desde s3://{bucket}/{key}\")\n",
    "    except Exception as e:\n",
    "        print(f\"Error al descargar el modelo: {e}\")\n"
   ]
  },
  {
   "cell_type": "markdown",
   "id": "62d7fab2-26be-4c30-8c8a-3c48a296ef0e",
   "metadata": {
    "tags": []
   },
   "source": [
    "### Paso 26: Extraer el archivo tar.gz\n",
    "\n",
    "Definimos una función para extraer el archivo tar.gz descargado.\n"
   ]
  },
  {
   "cell_type": "code",
   "execution_count": 27,
   "id": "e5d5867a-2a24-4f42-a96f-dba71a55a2b0",
   "metadata": {},
   "outputs": [],
   "source": [
    "# Extraer el archivo tar.gz\n",
    "def extract_model(tar_path, extract_to):\n",
    "    try:\n",
    "        with tarfile.open(tar_path, \"r:gz\") as tar:\n",
    "            tar.extractall(path=extract_to)\n",
    "        print(f\"Modelo extraído en {extract_to}\")\n",
    "    except Exception as e:\n",
    "        print(f\"Error al extraer el modelo: {e}\")\n",
    "\n"
   ]
  },
  {
   "cell_type": "markdown",
   "id": "9c4d8cc9-155a-4be0-aa36-effdc95d8102",
   "metadata": {},
   "source": [
    "### Paso 27: Cargar el modelo\n",
    "\n",
    "Definimos una función para cargar el modelo utilizando joblib.\n"
   ]
  },
  {
   "cell_type": "code",
   "execution_count": 28,
   "id": "7dceff50-6196-44a6-b993-1d3049b41536",
   "metadata": {},
   "outputs": [],
   "source": [
    "# Cargar el modelo\n",
    "def model_fn(model_dir):\n",
    "    model_path = os.path.join(model_dir, \"model.joblib\")\n",
    "    try:\n",
    "        model = joblib.load(model_path)\n",
    "        print(\"Modelo cargado exitosamente\")\n",
    "        return model\n",
    "    except Exception as e:\n",
    "        print(f\"Error al cargar el modelo: {e}\")\n"
   ]
  },
  {
   "cell_type": "markdown",
   "id": "e791af57-a110-4442-aa6e-8df091b49176",
   "metadata": {},
   "source": [
    "### Paso 28: Descargar, extraer y cargar el modelo\n",
    "\n",
    "Utilizamos las funciones definidas para descargar, extraer y cargar el modelo.\n"
   ]
  },
  {
   "cell_type": "code",
   "execution_count": 29,
   "id": "5c496762-62a8-4fdd-b909-6833fb191dd0",
   "metadata": {},
   "outputs": [
    {
     "name": "stdout",
     "output_type": "stream",
     "text": [
      "Modelo descargado correctamente desde s3://predicciontips/model/model.tar.gz\n",
      "Modelo extraído en model\n",
      "Modelo cargado exitosamente\n"
     ]
    }
   ],
   "source": [
    "# Descargar y extraer el modelo\n",
    "download_model_from_s3(bucket_name, object_key, local_tar_path)\n",
    "extract_model(local_tar_path, extract_to_path)\n",
    "\n",
    "# Cargar el modelo\n",
    "model = model_fn(extract_to_path)\n"
   ]
  },
  {
   "cell_type": "markdown",
   "id": "2ece04fa-e409-4c34-89cc-6f9bdaddb1f4",
   "metadata": {},
   "source": [
    "# Desplegar el Modelo en Lambda"
   ]
  },
  {
   "cell_type": "markdown",
   "id": "3fe01590-3725-4c11-9ae1-ef47da5019df",
   "metadata": {},
   "source": [
    "###  Paso 29: Crear el Archivo de Código para Lambda (lambda_function.py)\n"
   ]
  },
  {
   "cell_type": "markdown",
   "id": "95168e21-14b4-46fc-aff6-6a4440f6c012",
   "metadata": {},
   "source": [
    "### Paso 30: Crear el paquete ZIP para Lambda\n"
   ]
  },
  {
   "cell_type": "code",
   "execution_count": 30,
   "id": "1f710204-ffd8-4766-94bb-d12cbc88fb31",
   "metadata": {
    "tags": []
   },
   "outputs": [
    {
     "name": "stdout",
     "output_type": "stream",
     "text": [
      "lambda_deployment_package.zip creado exitosamente.\n"
     ]
    }
   ],
   "source": [
    "# Función para crear el archivo ZIP para la función Lambda\n",
    "def create_lambda_zip(zip_name, source_file):\n",
    "    with zipfile.ZipFile(zip_name, 'w') as zipf:\n",
    "        zipf.write(source_file, os.path.basename(source_file))\n",
    "    print(f\"{zip_name} creado exitosamente.\")\n",
    "\n",
    "# Empaquetar la función lambda_function.py\n",
    "zip_file_name = 'lambda_deployment_package.zip'\n",
    "source_file = 'lambda_function.py'\n",
    "create_lambda_zip(zip_file_name, source_file)"
   ]
  },
  {
   "cell_type": "markdown",
   "id": "0b897419-d24f-4964-a107-d961c040e78d",
   "metadata": {},
   "source": [
    "### Paso 31: Subir el paquete ZIP a S3"
   ]
  },
  {
   "cell_type": "code",
   "execution_count": 31,
   "id": "1ecdcdc3-5f7d-4bbd-848d-5e435bffb400",
   "metadata": {
    "tags": []
   },
   "outputs": [
    {
     "name": "stdout",
     "output_type": "stream",
     "text": [
      "Archivo lambda_deployment_package.zip subido a s3://predicciontips/model/lambda_deployment_package.zip\n"
     ]
    }
   ],
   "source": [
    "# Subir el archivo zip a S3\n",
    "s3_client = boto3.client('s3')\n",
    "bucket_name = 'predicciontips'\n",
    "zip_file_s3_key = 'model/lambda_deployment_package.zip'\n",
    "\n",
    "try:\n",
    "    s3_client.upload_file(zip_file_name, bucket_name, zip_file_s3_key)\n",
    "    print(f\"Archivo {zip_file_name} subido a s3://{bucket_name}/{zip_file_s3_key}\")\n",
    "except boto3.exceptions.Boto3Error as e:\n",
    "    print(f\"Error al subir el archivo a S3: {e}\")"
   ]
  },
  {
   "cell_type": "markdown",
   "id": "de172e4c-00ba-4c9e-bbf1-9a50e8b87e88",
   "metadata": {},
   "source": [
    "### Paso 32: Crear y configurar la función Lambda"
   ]
  },
  {
   "cell_type": "code",
   "execution_count": 32,
   "id": "861c39df-ef04-44e6-83ae-b0b07f309184",
   "metadata": {
    "tags": []
   },
   "outputs": [],
   "source": [
    "# Parámetros de configuración\n",
    "bucket_name = 'predicciontips'\n",
    "zip_file_s3_key = 'model/lambda_deployment_package.zip'\n",
    "role_arn = 'arn:aws:iam::280807576555:role/service-role/SageMaker-tip'\n",
    "function_name = 'mySklearnLambdaFunction'\n",
    "\n",
    "# Crear el cliente de Lambda\n",
    "lambda_client = boto3.client('lambda')"
   ]
  },
  {
   "cell_type": "markdown",
   "id": "3b77d7c9-4e6c-4908-8625-cd1d351016fd",
   "metadata": {},
   "source": [
    "### Paso 33: Crear la función Lambda\n"
   ]
  },
  {
   "cell_type": "code",
   "execution_count": 33,
   "id": "bb72b30d-9fbd-4f4b-b25d-31a5f2a8e528",
   "metadata": {
    "tags": []
   },
   "outputs": [
    {
     "name": "stdout",
     "output_type": "stream",
     "text": [
      "Función Lambda actualizada: arn:aws:lambda:us-east-1:280807576555:function:mySklearnLambdaFunction:1\n"
     ]
    }
   ],
   "source": [
    "# Crear o actualizar la función Lambda\n",
    "def create_or_update_lambda_function():\n",
    "    try:\n",
    "        # Verificar si la función Lambda ya existe\n",
    "        lambda_client.get_function(FunctionName=function_name)\n",
    "        # Si existe, actualizar el código de la función\n",
    "        response = lambda_client.update_function_code(\n",
    "            FunctionName=function_name,\n",
    "            S3Bucket=bucket_name,\n",
    "            S3Key=zip_file_s3_key,\n",
    "            Publish=True\n",
    "        )\n",
    "        print(f\"Función Lambda actualizada: {response['FunctionArn']}\")\n",
    "    except lambda_client.exceptions.ResourceNotFoundException:\n",
    "        # Si no existe, crear la función\n",
    "        response = lambda_client.create_function(\n",
    "            FunctionName=function_name,\n",
    "            Runtime='python3.8',\n",
    "            Role=role_arn,\n",
    "            Handler='lambda_function.lambda_handler',\n",
    "            Code={\n",
    "                'S3Bucket': bucket_name,\n",
    "                'S3Key': zip_file_s3_key,\n",
    "            },\n",
    "            Timeout=300,  # 5 minutos de timeout\n",
    "            MemorySize=128,  # 128 MB de memoria\n",
    "        )\n",
    "        print(f\"Función Lambda creada: {response['FunctionArn']}\")\n",
    "    except lambda_client.exceptions.InvalidParameterValueException as e:\n",
    "        print(f\"Error al crear o actualizar la función Lambda: {e}\")\n",
    "    except Exception as e:\n",
    "        print(f\"Error inesperado: {e}\")\n",
    "\n",
    "create_or_update_lambda_function()\n"
   ]
  }
 ],
 "metadata": {
  "kernelspec": {
   "display_name": "conda_pytorch_p310",
   "language": "python",
   "name": "conda_pytorch_p310"
  },
  "language_info": {
   "codemirror_mode": {
    "name": "ipython",
    "version": 3
   },
   "file_extension": ".py",
   "mimetype": "text/x-python",
   "name": "python",
   "nbconvert_exporter": "python",
   "pygments_lexer": "ipython3",
   "version": "3.10.14"
  }
 },
 "nbformat": 4,
 "nbformat_minor": 5
}
